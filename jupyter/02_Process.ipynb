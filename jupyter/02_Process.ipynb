{
 "cells": [
  {
   "cell_type": "code",
   "execution_count": 22,
   "id": "02ac8a21-c729-4de9-b834-5d3bb8b0a756",
   "metadata": {},
   "outputs": [],
   "source": [
    "import pandas as pd\n",
    "# from dataprep.eda import create_report\n",
    "\n",
    "#formatting\n",
    "from sklearn.preprocessing import OrdinalEncoder #1st attempt to improve results\n",
    "\n",
    "#models\n",
    "#1.st attempt\n",
    "from sklearn.tree import DecisionTreeClassifier\n",
    "# from sklearn.linear_model import SGDClassifier\n",
    "\n",
    "#metrics\n",
    "from sklearn.metrics import accuracy_score"
   ]
  },
  {
   "cell_type": "markdown",
   "id": "dc1010ea-4960-4e9b-b321-595c3ded6187",
   "metadata": {},
   "source": [
    "## READ DATA\n",
    "## FORMATTING\n",
    "- Points/conclusion from EDA jupyternotebook\n",
    "- Functions used\n",
    "\n",
    "## PREDICTION ANALYSIS\n",
    "- PYCARET\n",
    "- SHAP\n",
    "\n",
    "## RESULTS\n",
    "- VIZ\n",
    "## CONCLUSION"
   ]
  },
  {
   "cell_type": "markdown",
   "id": "fde44f29-801b-4547-b40c-2c4715be9c9b",
   "metadata": {},
   "source": [
    "***"
   ]
  },
  {
   "cell_type": "markdown",
   "id": "abd5028c-a085-4c9b-a604-46f4b4b463b4",
   "metadata": {},
   "source": [
    "# Reading data"
   ]
  },
  {
   "cell_type": "code",
   "execution_count": 92,
   "id": "d43db69a-accd-482d-ade1-f00b3f5d93b7",
   "metadata": {},
   "outputs": [],
   "source": [
    "train_data = pd.read_csv('../data/train.csv')\n",
    "test_data = pd.read_csv('../data/test.csv')"
   ]
  },
  {
   "cell_type": "markdown",
   "id": "a4f5314d",
   "metadata": {},
   "source": [
    "# Formatting"
   ]
  },
  {
   "cell_type": "markdown",
   "id": "0c9e1893",
   "metadata": {},
   "source": [
    "### Functions used"
   ]
  },
  {
   "cell_type": "code",
   "execution_count": 5,
   "id": "31d91c34",
   "metadata": {},
   "outputs": [],
   "source": [
    "def convert_data_type(df: pd.DataFrame) -> pd.DataFrame:\n",
    "    \"\"\"Properly data type converting\n",
    "    \"\"\"\n",
    "    converted_data = df.astype({'Name': 'string',\n",
    "                                'Sex': 'category',\n",
    "                                'Ticket': 'category',\n",
    "                                'Cabin': 'category',\n",
    "                                'Embarked': 'category'})\n",
    "    return converted_data"
   ]
  },
  {
   "cell_type": "code",
   "execution_count": 83,
   "id": "04f9454f",
   "metadata": {},
   "outputs": [],
   "source": [
    "ordinal_encoder = OrdinalEncoder()\n",
    "\n",
    "def format_features(df: pd.DataFrame) -> pd.DataFrame:\n",
    "    \"\"\"Properly data formatting\n",
    "        \n",
    "        -> missing null values\n",
    "            -> mean\n",
    "            -> klustering\n",
    "        -> hot encoding\n",
    "        -> Drop columns:\n",
    "            - ['Name'] -> current not being considered\n",
    "            - ['Sex'] -> OrdinalEncoder applied and replace by _sex_encoded\n",
    "            - ['Ticket'] -> OrdinalEncoder applied and replace by _ticket_encoded\n",
    "    \"\"\"\n",
    "    \n",
    "    #hanlding missing values\n",
    "    df['Age'] = df['Age'].fillna(df['Age'].mean())\n",
    "    df['Fare'] = df['Fare'].fillna(df['Age'].mean())\n",
    "\n",
    "    #handling missing values (with mode) -> temporary approach (easiest and faster)\n",
    "    #-- Cabin\n",
    "    cabin_mode = df['Cabin'].value_counts().index[0]\n",
    "    df['Cabin'].fillna(cabin_mode, inplace=True)\n",
    "    #-- Embarked\n",
    "    embarked_mode = df['Embarked'].value_counts().index[0]\n",
    "    df['Embarked'].fillna(embarked_mode, inplace=True)\n",
    "\n",
    "    #encoder\n",
    "    df['_sex_encoded'] = ordinal_encoder.fit_transform(df[['Sex']])\n",
    "    df['_ticket_encoded'] = ordinal_encoder.fit_transform(df[['Ticket']])\n",
    "    df['_cabin_encoded'] = ordinal_encoder.fit_transform(df[['Cabin']])\n",
    "    df['_embarked_encoded'] = ordinal_encoder.fit_transform(df[['Cabin']])\n",
    "\n",
    "    #dropping columns\n",
    "    df = df.drop(columns={'Name', 'Sex', 'Ticket', 'Cabin', 'Embarked'})\n",
    "\n",
    "    return df"
   ]
  },
  {
   "cell_type": "code",
   "execution_count": 96,
   "id": "af7e1b81",
   "metadata": {},
   "outputs": [],
   "source": [
    "def format_test_data(df_test: pd.DataFrame) -> pd.DataFrame:\n",
    "    \"\"\"Specific fuction to handle with test dataset\n",
    "\n",
    "    Args:\n",
    "        df (pd.DataFrame): test dataset\n",
    "\n",
    "    Returns:\n",
    "        pd.DataFrame: formatead test dataset\n",
    "    \"\"\"\n",
    "\n",
    "    converted_test_data = convert_data_type(df_test)\n",
    "    formated_test_data =  format_features(converted_test_data)\n",
    "\n",
    "    return formated_test_data\n"
   ]
  },
  {
   "cell_type": "markdown",
   "id": "0e2d7c67-a67c-4df5-a237-d719dd2cca95",
   "metadata": {
    "jp-MarkdownHeadingCollapsed": true,
    "tags": []
   },
   "source": [
    "### Train "
   ]
  },
  {
   "cell_type": "code",
   "execution_count": 102,
   "id": "77f6e8b8",
   "metadata": {},
   "outputs": [],
   "source": [
    "converted_train_data = convert_data_type(train_data)\n",
    "formated_train_data = format_features(converted_train_data)"
   ]
  },
  {
   "cell_type": "markdown",
   "id": "da964821-63c7-42bf-820d-816b0cb26f2b",
   "metadata": {
    "jp-MarkdownHeadingCollapsed": true,
    "tags": []
   },
   "source": [
    "### Test"
   ]
  },
  {
   "cell_type": "code",
   "execution_count": 101,
   "id": "5dc7987c",
   "metadata": {},
   "outputs": [],
   "source": [
    "formated_test_data = format_test_data(test_data)"
   ]
  },
  {
   "cell_type": "code",
   "execution_count": null,
   "id": "f0fbe5ad",
   "metadata": {},
   "outputs": [],
   "source": []
  },
  {
   "cell_type": "markdown",
   "id": "5a4dddbd-61ed-4251-8e53-7566a65acedf",
   "metadata": {},
   "source": [
    "### Creating model\n",
    "Simple model after some cleaning based on EDA analysis"
   ]
  },
  {
   "cell_type": "code",
   "execution_count": 104,
   "id": "00a739c8-34c6-4261-920f-71d5c01d36fa",
   "metadata": {},
   "outputs": [],
   "source": [
    "# train_data.head()"
   ]
  },
  {
   "cell_type": "code",
   "execution_count": 107,
   "id": "5c78ec08-fc18-4899-b555-e03c22dcfd4b",
   "metadata": {},
   "outputs": [],
   "source": [
    "x_train = formated_train_data.drop({'Survived'}, axis=1)\n",
    "y_train = formated_train_data[['Survived']]"
   ]
  },
  {
   "cell_type": "code",
   "execution_count": 108,
   "id": "a9d4fc4a-09dc-43cc-bee3-4428b5743b9f",
   "metadata": {},
   "outputs": [],
   "source": [
    "decision_tree = DecisionTreeClassifier(random_state=0, max_depth=2)\n",
    "decision_tree = decision_tree.fit(x_train, y_train)"
   ]
  },
  {
   "cell_type": "markdown",
   "id": "93e2ccd6-f763-4ac2-93d5-11d1045d327e",
   "metadata": {},
   "source": [
    "***"
   ]
  },
  {
   "cell_type": "markdown",
   "id": "8fa39c65-e104-48bc-8113-02816c44d959",
   "metadata": {},
   "source": [
    "### Writing test dataset to submit"
   ]
  },
  {
   "cell_type": "code",
   "execution_count": 110,
   "id": "285b9853-4e86-4f5c-be43-81a1ea80ff16",
   "metadata": {},
   "outputs": [],
   "source": [
    "x_test = formated_test_data.copy()\n",
    "y_pred = decision_tree.predict(x_test)"
   ]
  },
  {
   "cell_type": "code",
   "execution_count": 111,
   "id": "de81f844-6760-49b2-ab35-a78d6c2f4442",
   "metadata": {},
   "outputs": [],
   "source": [
    "submission_file = pd.DataFrame({'PassengerId': test_data.PassengerId,\n",
    "                               'Survived': y_pred})"
   ]
  },
  {
   "cell_type": "code",
   "execution_count": 112,
   "id": "28d388ce-00ad-4559-b1dc-708691a492dc",
   "metadata": {},
   "outputs": [
    {
     "data": {
      "text/html": [
       "<div>\n",
       "<style scoped>\n",
       "    .dataframe tbody tr th:only-of-type {\n",
       "        vertical-align: middle;\n",
       "    }\n",
       "\n",
       "    .dataframe tbody tr th {\n",
       "        vertical-align: top;\n",
       "    }\n",
       "\n",
       "    .dataframe thead th {\n",
       "        text-align: right;\n",
       "    }\n",
       "</style>\n",
       "<table border=\"1\" class=\"dataframe\">\n",
       "  <thead>\n",
       "    <tr style=\"text-align: right;\">\n",
       "      <th></th>\n",
       "      <th>PassengerId</th>\n",
       "      <th>Survived</th>\n",
       "    </tr>\n",
       "  </thead>\n",
       "  <tbody>\n",
       "    <tr>\n",
       "      <th>0</th>\n",
       "      <td>892</td>\n",
       "      <td>0</td>\n",
       "    </tr>\n",
       "    <tr>\n",
       "      <th>1</th>\n",
       "      <td>893</td>\n",
       "      <td>0</td>\n",
       "    </tr>\n",
       "    <tr>\n",
       "      <th>2</th>\n",
       "      <td>894</td>\n",
       "      <td>0</td>\n",
       "    </tr>\n",
       "    <tr>\n",
       "      <th>3</th>\n",
       "      <td>895</td>\n",
       "      <td>0</td>\n",
       "    </tr>\n",
       "    <tr>\n",
       "      <th>4</th>\n",
       "      <td>896</td>\n",
       "      <td>0</td>\n",
       "    </tr>\n",
       "  </tbody>\n",
       "</table>\n",
       "</div>"
      ],
      "text/plain": [
       "   PassengerId  Survived\n",
       "0          892         0\n",
       "1          893         0\n",
       "2          894         0\n",
       "3          895         0\n",
       "4          896         0"
      ]
     },
     "execution_count": 112,
     "metadata": {},
     "output_type": "execute_result"
    }
   ],
   "source": [
    "submission_file.head()"
   ]
  },
  {
   "cell_type": "code",
   "execution_count": 113,
   "id": "c5deb84a-3120-4c12-aa82-767242aa858e",
   "metadata": {},
   "outputs": [],
   "source": [
    "submission_file.to_csv('../data/submission/submission-12-12-2022.csv', index=False)"
   ]
  }
 ],
 "metadata": {
  "kernelspec": {
   "display_name": "Python 3.8.7 ('env': venv)",
   "language": "python",
   "name": "python3"
  },
  "language_info": {
   "codemirror_mode": {
    "name": "ipython",
    "version": 3
   },
   "file_extension": ".py",
   "mimetype": "text/x-python",
   "name": "python",
   "nbconvert_exporter": "python",
   "pygments_lexer": "ipython3",
   "version": "3.8.7"
  },
  "vscode": {
   "interpreter": {
    "hash": "a465aa970e70d8f65da8361b98a6597f508536fa1af350b72956ef37bbe0b79e"
   }
  }
 },
 "nbformat": 4,
 "nbformat_minor": 5
}
