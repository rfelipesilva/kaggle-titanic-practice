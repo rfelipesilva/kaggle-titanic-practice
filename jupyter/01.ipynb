{
 "cells": [
  {
   "cell_type": "markdown",
   "id": "dc1010ea-4960-4e9b-b321-595c3ded6187",
   "metadata": {},
   "source": [
    "## READ DATA\n",
    "## EDA\n",
    "- DATAPREP\n",
    "- PYCARET\n",
    "## PREDICTION ANALYSIS\n",
    "- SHAP\n",
    "## RESULTS\n",
    "- VIZ\n",
    "## CONCLUSION"
   ]
  }
 ],
 "metadata": {
  "kernelspec": {
   "display_name": "Python 3.8.7 64-bit",
   "language": "python",
   "name": "python3"
  },
  "language_info": {
   "codemirror_mode": {
    "name": "ipython",
    "version": 3
   },
   "file_extension": ".py",
   "mimetype": "text/x-python",
   "name": "python",
   "nbconvert_exporter": "python",
   "pygments_lexer": "ipython3",
   "version": "3.8.7"
  },
  "vscode": {
   "interpreter": {
    "hash": "570feb405e2e27c949193ac68f46852414290d515b0ba6e5d90d076ed2284471"
   }
  }
 },
 "nbformat": 4,
 "nbformat_minor": 5
}
